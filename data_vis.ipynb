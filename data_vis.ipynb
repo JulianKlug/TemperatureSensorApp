{
 "cells": [
  {
   "cell_type": "code",
   "execution_count": 13,
   "metadata": {
    "collapsed": true
   },
   "outputs": [],
   "source": [
    "import json\n",
    "from pathlib import Path\n",
    "\n",
    "from pymongo import MongoClient"
   ]
  },
  {
   "cell_type": "code",
   "execution_count": 14,
   "outputs": [],
   "source": [
    "\n",
    "config_path = Path('/home/hendrik/.config/burchen_db.json')\n",
    "\n",
    "with open(config_path, 'rt') as json_file:\n",
    "    config = json.load(json_file)\n",
    "\n",
    "client = MongoClient(config['mongo_uri'])\n",
    "db = client.ppb\n",
    "collection = db.inkbird1"
   ],
   "metadata": {
    "collapsed": false,
    "pycharm": {
     "name": "#%%\n"
    }
   }
  },
  {
   "cell_type": "code",
   "execution_count": 15,
   "outputs": [
    {
     "name": "stdout",
     "output_type": "stream",
     "text": [
      "{'_id': ObjectId('61ab7d5e154b8200fe46f481'), 'temp': nan, 'humidity': nan, 'date': datetime.datetime(2021, 12, 4, 14, 38, 22, 257000)}\n",
      "{'_id': ObjectId('61ab7ca64a7da66eccb6d51f'), 'temp': 17.25, 'humidity': 45.91, 'date': datetime.datetime(2021, 12, 4, 14, 35, 18, 732000)}\n",
      "{'_id': ObjectId('61ab7b706471b39ece220487'), 'temp': 17.28, 'humidity': 45.86, 'date': datetime.datetime(2021, 12, 4, 14, 30, 8, 824000)}\n",
      "{'_id': ObjectId('61ab7aa256bc0be04ade415e'), 'temp': nan, 'humidity': nan, 'date': datetime.datetime(2021, 12, 4, 14, 26, 42, 575000)}\n",
      "{'_id': ObjectId('61ab6ffbba185ec8840a0ea0'), 'temp': nan, 'humidity': nan, 'date': datetime.datetime(2021, 12, 4, 13, 41, 15, 232000)}\n"
     ]
    }
   ],
   "source": [
    "# for elem in collection.find({}).limit(1).sort(\"_id\", -1):\n",
    "for elem in collection.find({}).sort(\"_id\", -1):\n",
    "    print(elem)"
   ],
   "metadata": {
    "collapsed": false,
    "pycharm": {
     "name": "#%%\n"
    }
   }
  },
  {
   "cell_type": "code",
   "execution_count": null,
   "outputs": [],
   "source": [],
   "metadata": {
    "collapsed": false,
    "pycharm": {
     "name": "#%%\n"
    }
   }
  }
 ],
 "metadata": {
  "kernelspec": {
   "display_name": "Python 3",
   "language": "python",
   "name": "python3"
  },
  "language_info": {
   "codemirror_mode": {
    "name": "ipython",
    "version": 2
   },
   "file_extension": ".py",
   "mimetype": "text/x-python",
   "name": "python",
   "nbconvert_exporter": "python",
   "pygments_lexer": "ipython2",
   "version": "2.7.6"
  }
 },
 "nbformat": 4,
 "nbformat_minor": 0
}